{
 "cells": [
  {
   "cell_type": "code",
   "execution_count": 5,
   "metadata": {},
   "outputs": [],
   "source": [
    "import cv2\n",
    "import numpy as np\n",
    "import matplotlib.pyplot as plt\n",
    "import math"
   ]
  },
  {
   "cell_type": "code",
   "execution_count": 6,
   "metadata": {},
   "outputs": [],
   "source": [
    "def compute_glcm(image, distance, angle, levels=256):\n",
    " height, width = image.shape\n",
    " glcm = np.zeros((levels, levels), dtype=np.uint32)\n",
    " # Convert angle to offset\n",
    " dx = int(round(distance * math.cos(math.radians(angle))))\n",
    " dy = int(round(distance * math.sin(math.radians(angle))))\n",
    " for i in range(height):\n",
    "    for j in range(width):\n",
    "        i2, j2 = i + dy, j + dx\n",
    "        if 0 <= i2 < height and 0 <= j2 < width:\n",
    "            glcm[image[i, j], image[i2, j2]] += 1\n",
    "            glcm[image[i2, j2], image[i, j]] += 1 # Symmetry\n",
    " \n",
    " # Normalize the GLCM\n",
    " glcm = glcm / np.sum(glcm)\n",
    " return glcm"
   ]
  },
  {
   "cell_type": "code",
   "execution_count": 7,
   "metadata": {},
   "outputs": [],
   "source": [
    "image_path = './lenna.png'\n",
    "img = cv2.imread(image_path, cv2.IMREAD_GRAYSCALE)"
   ]
  },
  {
   "cell_type": "code",
   "execution_count": 8,
   "metadata": {},
   "outputs": [
    {
     "name": "stdout",
     "output_type": "stream",
     "text": [
      "[[0. 0. 0. ... 0. 0. 0.]\n",
      " [0. 0. 0. ... 0. 0. 0.]\n",
      " [0. 0. 0. ... 0. 0. 0.]\n",
      " ...\n",
      " [0. 0. 0. ... 0. 0. 0.]\n",
      " [0. 0. 0. ... 0. 0. 0.]\n",
      " [0. 0. 0. ... 0. 0. 0.]]\n"
     ]
    }
   ],
   "source": [
    "# GLCM computation\n",
    "distance = 1\n",
    "angle = 0 # Example angle\n",
    "print(compute_glcm(img, distance, angle)) #21BAI1210"
   ]
  }
 ],
 "metadata": {
  "kernelspec": {
   "display_name": "machine_vision",
   "language": "python",
   "name": "python3"
  },
  "language_info": {
   "codemirror_mode": {
    "name": "ipython",
    "version": 3
   },
   "file_extension": ".py",
   "mimetype": "text/x-python",
   "name": "python",
   "nbconvert_exporter": "python",
   "pygments_lexer": "ipython3",
   "version": "3.11.9"
  }
 },
 "nbformat": 4,
 "nbformat_minor": 2
}
